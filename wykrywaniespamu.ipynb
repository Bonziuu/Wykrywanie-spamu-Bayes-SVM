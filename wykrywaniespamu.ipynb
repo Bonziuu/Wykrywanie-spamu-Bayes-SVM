{
 "cells": [
  {
   "attachments": {},
   "cell_type": "markdown",
   "metadata": {},
   "source": [
    "# Projekt: Wykrywanie spamu wiadomości e-mail przy pomocy naiwnego klasyfikatora Bayesa i SVM"
   ]
  },
  {
   "attachments": {},
   "cell_type": "markdown",
   "metadata": {},
   "source": [
    "Autor: Konrad Woźniak"
   ]
  },
  {
   "attachments": {},
   "cell_type": "markdown",
   "metadata": {},
   "source": [
    "## Opis projektu"
   ]
  },
  {
   "attachments": {},
   "cell_type": "markdown",
   "metadata": {},
   "source": [
    "### Cel projektu"
   ]
  },
  {
   "attachments": {},
   "cell_type": "markdown",
   "metadata": {},
   "source": [
    "Celem projektu jest zastosowanie algorytmów wspomagania decyzji do procesu wspomagania filtracji wiadomości e-mail typu spam. Projekt opiera się na wykorzystaniu klasycznego zastosowania algorytmu Bayesowskiego do filtrowania spamu oraz algorytmu SVM (Support Vector Machines). Jest to projekt wykonany w środowisku programistycznym Python, wykorzystując przy tym Jupyter Nootebook. "
   ]
  },
  {
   "cell_type": "code",
   "execution_count": 12,
   "metadata": {},
   "outputs": [
    {
     "data": {
      "image/png": "[encoded data removed]",
      "text/plain": [
       "<IPython.core.display.Image object>"
      ]
     },
     "execution_count": 12,
     "metadata": {},
     "output_type": "execute_result"
    }
   ],
   "source": [
    "from IPython.display import Image\n",
    "Image(filename=\"img/spam1.png\")"
   ]
  },
  {
   "attachments": {},
   "cell_type": "markdown",
   "metadata": {},
   "source": [
    "### Zbiór danych"
   ]
  },
  {
   "attachments": {},
   "cell_type": "markdown",
   "metadata": {},
   "source": [
    "Zbiór danych wykorzystany w projekcie został pobrany z serwisu kaggle.com i jest on plikiem typu csv. Plik posiada prawie 5700 różnych wiadomości.\n",
    "\n",
    "Link do zbioru danych kaggle:\n",
    "\n",
    "https://www.kaggle.com/datasets/rockinjas123/spam-ham-emails"
   ]
  },
  {
   "attachments": {},
   "cell_type": "markdown",
   "metadata": {},
   "source": [
    "### Spam vs ham"
   ]
  },
  {
   "attachments": {},
   "cell_type": "markdown",
   "metadata": {},
   "source": [
    "Termin spamu jest dość jasny - to niechciana i zwykle masowo wysyłana poczta elektroniczna lub wiadomość tekstowa, która zazwyczaj ma charakter reklamowy lub propagandowy. Często zawiera ona oferty niechcianych produktów lub usług, a czasem również zawiera złośliwe oprogramowanie lub próbuje oszukać odbiorcę, np. poprzez fałszywe informacje o wygranej w loterii.\n",
    "\n",
    "Ham natomiast to termin używany w kontekście filtrów antyspamowych. Oznacza on wiadomość, która nie jest uznana za spam. Może to być wiadomość prywatna lub komunikat związany z pracą lub biznesem, który jest spersonalizowany i przesłany do określonego odbiorcy lub grupy odbiorców."
   ]
  },
  {
   "attachments": {},
   "cell_type": "markdown",
   "metadata": {},
   "source": [
    "### Naiwny Klasyfikator Bayesa"
   ]
  },
  {
   "attachments": {},
   "cell_type": "markdown",
   "metadata": {},
   "source": [
    "Jest to bardzo często stosowany algorytm w uczeniu maszynowym służący do odróżniania wiadomości typu spam od normalnych wiadomości.\n",
    "\n",
    "Jego użycie polega na nauczeniu algorytmu ze zbioru treningowego wiadomości e-mail, które są oznaczone jako spam lub nie. Każda wiadomość jest opisana przez zbiór atrybutów, takich jak liczba wystąpień słów kluczowych, długość wiadomości, ilość załączników, czy adres nadawcy. Następnie, dla nowych wiadomości, naiwny klasyfikator Bayesowski oblicza prawdopodobieństwo, że dana wiadomość jest spamem lub nie-spamem, bazując na wartościach jej atrybutów. Jeśli prawdopodobieństwo, że wiadomość jest spamem, jest wyższe od pewnego ustalonego progu, to wiadomość jest uznawana za spam i trafia do folderu spamowego.\n",
    "\n",
    "Przykładowo, jeśli w treningowym zbiorze wiadomości spamowych występuje wiele razy słowo \"kredyt\", a w niespamowych tylko kilka razy, to naiwny klasyfikator Bayesowski będzie skłaniał się do tego, że wiadomość zawierająca słowo \"kredyt\" jest spamem. W ten sposób, na podstawie analizy atrybutów wiadomości, algorytm jest w stanie dokonywać skutecznej klasyfikacji wiadomości jako spam lub nie-spam.\n",
    "\n",
    "Każde prawdopodobieństwo pojedyńczego słowa, czy jest to wiadomość spamowa lub niespamowa jest określone poprzez:\n",
    "ilość wszystkich użyć tego słowa podzielone przez wszystkie słowa użyte w wiadomościach jednej kategorii spamu lub nie.\n",
    "\n",
    "Naiwnością klasyfikatora jest to, że niezależnie od szyku słów w wiadomości e-mailowej prawdopodobieństwo zawsze będzie takie samo, czyli kolejność w jakiej dane słowa zostały użyte nie ma znaczenia dla algorytmu."
   ]
  },
  {
   "attachments": {},
   "cell_type": "markdown",
   "metadata": {},
   "source": [
    "### Support Vector Machines (SMV)"
   ]
  },
  {
   "attachments": {},
   "cell_type": "markdown",
   "metadata": {},
   "source": [
    "Support Vector Machine (SVM) to algorytm uczenia maszynowego, który służy między innymi do rozwiązywania problemów klasyfikacji. SVM jest szczególnie skuteczny w przetwarzaniu danych, które mają skomplikowane wzorce i nie są liniowo separowalne.\n",
    "\n",
    "Działa na zasadzie konstruowania hiperpłaszczyzny, która dzieli przestrzeń na dwie lub więcej klas. Dla problemów klasyfikacji, SVM poszukuje hiperpłaszczyzny, która dzieli próbki z jednej klasy od próbek z drugiej klasy.\n",
    "\n",
    "Algorytm uczy się podobnie jak naiwny klasyfikator Bayesa, czyli na zestawie treningowym zawierającym wiadomości spam i niespam. \n",
    "W trakcie trenowania modelu SVM, każda wiadomość jest przetwarzana przez proces \"tokenizacji\", który polega na rozbiciu wiadomości na poszczególne słowa, usunięciu słów \"stop words\", czyli słów, które nie niosą istotnej informacji (np. \"a\", \"an\", \"the\"), a następnie przyporządkowaniu każdemu słowu wartości liczbowej (np. na podstawie częstości występowania w całym zbiorze danych treningowych).\n",
    "\n"
   ]
  },
  {
   "attachments": {},
   "cell_type": "markdown",
   "metadata": {},
   "source": [
    "## Implementacja projektu"
   ]
  },
  {
   "attachments": {},
   "cell_type": "markdown",
   "metadata": {},
   "source": [
    "### Import bibliotek projektowych"
   ]
  },
  {
   "attachments": {},
   "cell_type": "markdown",
   "metadata": {},
   "source": [
    "W tym miejscu znajduje się przegląd bibliotek potrzebnych do projektu."
   ]
  },
  {
   "cell_type": "code",
   "execution_count": 13,
   "metadata": {},
   "outputs": [],
   "source": [
    "#Biblioteki\n",
    "import pandas as pd\n",
    "import numpy as np\n",
    "import matplotlib.pyplot as plt\n",
    "import seaborn as sns\n",
    "from sklearn.svm import SVC\n",
    "from sklearn.feature_extraction.text import CountVectorizer\n",
    "from sklearn.metrics import accuracy_score\n",
    "from sklearn.naive_bayes import MultinomialNB\n",
    "from sklearn.model_selection import train_test_split"
   ]
  },
  {
   "attachments": {},
   "cell_type": "markdown",
   "metadata": {},
   "source": [
    "### Wczytywanie danych"
   ]
  },
  {
   "attachments": {},
   "cell_type": "markdown",
   "metadata": {},
   "source": [
    "Wczytujemy wszystkie e-maile ze zbioru danych kaggle z pliku \"emails.csv\"."
   ]
  },
  {
   "cell_type": "code",
   "execution_count": 14,
   "metadata": {},
   "outputs": [
    {
     "data": {
      "text/html": [
       "<div>\n",
       "<style scoped>\n",
       "    .dataframe tbody tr th:only-of-type {\n",
       "        vertical-align: middle;\n",
       "    }\n",
       "\n",
       "    .dataframe tbody tr th {\n",
       "        vertical-align: top;\n",
       "    }\n",
       "\n",
       "    .dataframe thead th {\n",
       "        text-align: right;\n",
       "    }\n",
       "</style>\n",
       "<table border=\"1\" class=\"dataframe\">\n",
       "  <thead>\n",
       "    <tr style=\"text-align: right;\">\n",
       "      <th></th>\n",
       "      <th>text</th>\n",
       "      <th>spam</th>\n",
       "    </tr>\n",
       "  </thead>\n",
       "  <tbody>\n",
       "    <tr>\n",
       "      <th>0</th>\n",
       "      <td>Subject: naturally irresistible your corporate...</td>\n",
       "      <td>1</td>\n",
       "    </tr>\n",
       "    <tr>\n",
       "      <th>1</th>\n",
       "      <td>Subject: the stock trading gunslinger  fanny i...</td>\n",
       "      <td>1</td>\n",
       "    </tr>\n",
       "    <tr>\n",
       "      <th>2</th>\n",
       "      <td>Subject: unbelievable new homes made easy  im ...</td>\n",
       "      <td>1</td>\n",
       "    </tr>\n",
       "    <tr>\n",
       "      <th>3</th>\n",
       "      <td>Subject: 4 color printing special  request add...</td>\n",
       "      <td>1</td>\n",
       "    </tr>\n",
       "    <tr>\n",
       "      <th>4</th>\n",
       "      <td>Subject: do not have money , get software cds ...</td>\n",
       "      <td>1</td>\n",
       "    </tr>\n",
       "    <tr>\n",
       "      <th>...</th>\n",
       "      <td>...</td>\n",
       "      <td>...</td>\n",
       "    </tr>\n",
       "    <tr>\n",
       "      <th>5723</th>\n",
       "      <td>Subject: re : research and development charges...</td>\n",
       "      <td>0</td>\n",
       "    </tr>\n",
       "    <tr>\n",
       "      <th>5724</th>\n",
       "      <td>Subject: re : receipts from visit  jim ,  than...</td>\n",
       "      <td>0</td>\n",
       "    </tr>\n",
       "    <tr>\n",
       "      <th>5725</th>\n",
       "      <td>Subject: re : enron case study update  wow ! a...</td>\n",
       "      <td>0</td>\n",
       "    </tr>\n",
       "    <tr>\n",
       "      <th>5726</th>\n",
       "      <td>Subject: re : interest  david ,  please , call...</td>\n",
       "      <td>0</td>\n",
       "    </tr>\n",
       "    <tr>\n",
       "      <th>5727</th>\n",
       "      <td>Subject: news : aurora 5 . 2 update  aurora ve...</td>\n",
       "      <td>0</td>\n",
       "    </tr>\n",
       "  </tbody>\n",
       "</table>\n",
       "<p>5728 rows × 2 columns</p>\n",
       "</div>"
      ],
      "text/plain": [
       "                                                   text  spam\n",
       "0     Subject: naturally irresistible your corporate...     1\n",
       "1     Subject: the stock trading gunslinger  fanny i...     1\n",
       "2     Subject: unbelievable new homes made easy  im ...     1\n",
       "3     Subject: 4 color printing special  request add...     1\n",
       "4     Subject: do not have money , get software cds ...     1\n",
       "...                                                 ...   ...\n",
       "5723  Subject: re : research and development charges...     0\n",
       "5724  Subject: re : receipts from visit  jim ,  than...     0\n",
       "5725  Subject: re : enron case study update  wow ! a...     0\n",
       "5726  Subject: re : interest  david ,  please , call...     0\n",
       "5727  Subject: news : aurora 5 . 2 update  aurora ve...     0\n",
       "\n",
       "[5728 rows x 2 columns]"
      ]
     },
     "execution_count": 14,
     "metadata": {},
     "output_type": "execute_result"
    }
   ],
   "source": [
    "#Wczytanie danych z pliku\n",
    "df = pd.read_csv(\"emails.csv\")\n",
    "df"
   ]
  },
  {
   "attachments": {},
   "cell_type": "markdown",
   "metadata": {},
   "source": [
    "Można zauważyć, że zbiór danych składa się tylko z dwóch kolumn \"text\" i \"spam\" oraz z 5728 wierszy, czyli jest to liczba wszystkich e-maili.\n",
    "\n",
    "Kolumna spam posiada tylko dwie wartości 1, czyli wiadomości będące spamem oraz wartość 0, czyli wiadomości typu ham."
   ]
  },
  {
   "cell_type": "code",
   "execution_count": 15,
   "metadata": {},
   "outputs": [
    {
     "data": {
      "text/plain": [
       "0    4360\n",
       "1    1368\n",
       "Name: spam, dtype: int64"
      ]
     },
     "execution_count": 15,
     "metadata": {},
     "output_type": "execute_result"
    }
   ],
   "source": [
    "#Ilość danych, 0 - ham, 1 - spam\n",
    "df['spam'].value_counts()"
   ]
  },
  {
   "attachments": {},
   "cell_type": "markdown",
   "metadata": {},
   "source": [
    "### Czyszczenie danych"
   ]
  },
  {
   "attachments": {},
   "cell_type": "markdown",
   "metadata": {},
   "source": [
    "Przed dalszą operacją na zbiorze danych najpierw trzeba te dane trochę przeczyścić. Na początku program sprawdza czy występują w zbiorze wartości puste."
   ]
  },
  {
   "cell_type": "code",
   "execution_count": 16,
   "metadata": {},
   "outputs": [
    {
     "data": {
      "text/plain": [
       "text    0\n",
       "spam    0\n",
       "dtype: int64"
      ]
     },
     "execution_count": 16,
     "metadata": {},
     "output_type": "execute_result"
    }
   ],
   "source": [
    "#Sprawdzenie czy występują puste komórki\n",
    "df.isnull().sum()\n",
    "\n",
    "#Jeśli jednak wystąpiłyby puste komórki np. w kolumnie spam wtedy można dokonać zastąpienia wartości null jakąś wartością np. 1\n",
    "#df.fillna({'spam':1}, inplace=True)"
   ]
  },
  {
   "attachments": {},
   "cell_type": "markdown",
   "metadata": {},
   "source": [
    "W tym zbiorze nie występują żadne puste dane w obu kolumnach.\n",
    "\n",
    "Kolejnym krokiem jest usunięcie duplikatów czyli wiadomości powtarzających się."
   ]
  },
  {
   "cell_type": "code",
   "execution_count": 17,
   "metadata": {},
   "outputs": [
    {
     "data": {
      "text/html": [
       "<div>\n",
       "<style scoped>\n",
       "    .dataframe tbody tr th:only-of-type {\n",
       "        vertical-align: middle;\n",
       "    }\n",
       "\n",
       "    .dataframe tbody tr th {\n",
       "        vertical-align: top;\n",
       "    }\n",
       "\n",
       "    .dataframe thead th {\n",
       "        text-align: right;\n",
       "    }\n",
       "</style>\n",
       "<table border=\"1\" class=\"dataframe\">\n",
       "  <thead>\n",
       "    <tr style=\"text-align: right;\">\n",
       "      <th></th>\n",
       "      <th>text</th>\n",
       "      <th>spam</th>\n",
       "    </tr>\n",
       "  </thead>\n",
       "  <tbody>\n",
       "    <tr>\n",
       "      <th>0</th>\n",
       "      <td>Subject: naturally irresistible your corporate...</td>\n",
       "      <td>1</td>\n",
       "    </tr>\n",
       "    <tr>\n",
       "      <th>1</th>\n",
       "      <td>Subject: the stock trading gunslinger  fanny i...</td>\n",
       "      <td>1</td>\n",
       "    </tr>\n",
       "    <tr>\n",
       "      <th>2</th>\n",
       "      <td>Subject: unbelievable new homes made easy  im ...</td>\n",
       "      <td>1</td>\n",
       "    </tr>\n",
       "    <tr>\n",
       "      <th>3</th>\n",
       "      <td>Subject: 4 color printing special  request add...</td>\n",
       "      <td>1</td>\n",
       "    </tr>\n",
       "    <tr>\n",
       "      <th>4</th>\n",
       "      <td>Subject: do not have money , get software cds ...</td>\n",
       "      <td>1</td>\n",
       "    </tr>\n",
       "    <tr>\n",
       "      <th>...</th>\n",
       "      <td>...</td>\n",
       "      <td>...</td>\n",
       "    </tr>\n",
       "    <tr>\n",
       "      <th>5723</th>\n",
       "      <td>Subject: re : research and development charges...</td>\n",
       "      <td>0</td>\n",
       "    </tr>\n",
       "    <tr>\n",
       "      <th>5724</th>\n",
       "      <td>Subject: re : receipts from visit  jim ,  than...</td>\n",
       "      <td>0</td>\n",
       "    </tr>\n",
       "    <tr>\n",
       "      <th>5725</th>\n",
       "      <td>Subject: re : enron case study update  wow ! a...</td>\n",
       "      <td>0</td>\n",
       "    </tr>\n",
       "    <tr>\n",
       "      <th>5726</th>\n",
       "      <td>Subject: re : interest  david ,  please , call...</td>\n",
       "      <td>0</td>\n",
       "    </tr>\n",
       "    <tr>\n",
       "      <th>5727</th>\n",
       "      <td>Subject: news : aurora 5 . 2 update  aurora ve...</td>\n",
       "      <td>0</td>\n",
       "    </tr>\n",
       "  </tbody>\n",
       "</table>\n",
       "<p>5695 rows × 2 columns</p>\n",
       "</div>"
      ],
      "text/plain": [
       "                                                   text  spam\n",
       "0     Subject: naturally irresistible your corporate...     1\n",
       "1     Subject: the stock trading gunslinger  fanny i...     1\n",
       "2     Subject: unbelievable new homes made easy  im ...     1\n",
       "3     Subject: 4 color printing special  request add...     1\n",
       "4     Subject: do not have money , get software cds ...     1\n",
       "...                                                 ...   ...\n",
       "5723  Subject: re : research and development charges...     0\n",
       "5724  Subject: re : receipts from visit  jim ,  than...     0\n",
       "5725  Subject: re : enron case study update  wow ! a...     0\n",
       "5726  Subject: re : interest  david ,  please , call...     0\n",
       "5727  Subject: news : aurora 5 . 2 update  aurora ve...     0\n",
       "\n",
       "[5695 rows x 2 columns]"
      ]
     },
     "execution_count": 17,
     "metadata": {},
     "output_type": "execute_result"
    }
   ],
   "source": [
    "#Usunięcie duplikatów bez utworzenia nowego dataframe\n",
    "df.drop_duplicates(inplace = True)\n",
    "df"
   ]
  },
  {
   "attachments": {},
   "cell_type": "markdown",
   "metadata": {},
   "source": [
    "Tutaj można zauważyć, że zostało usuniętych ponad 30 duplikatów. Po przeczyszczeniu danych znajduje się teraz w zbiorze dokładnie 5695 wiadomości."
   ]
  },
  {
   "cell_type": "code",
   "execution_count": 18,
   "metadata": {},
   "outputs": [
    {
     "data": {
      "text/plain": [
       "0    4327\n",
       "1    1368\n",
       "Name: spam, dtype: int64"
      ]
     },
     "execution_count": 18,
     "metadata": {},
     "output_type": "execute_result"
    }
   ],
   "source": [
    "df['spam'].value_counts()"
   ]
  },
  {
   "attachments": {},
   "cell_type": "markdown",
   "metadata": {},
   "source": [
    "Zbiór zawiera 4327 wiadomości ham oraz 1368 spam."
   ]
  },
  {
   "attachments": {},
   "cell_type": "markdown",
   "metadata": {},
   "source": [
    "### Przygotowanie danych treningowych i testowych"
   ]
  },
  {
   "attachments": {},
   "cell_type": "markdown",
   "metadata": {},
   "source": [
    "Aby przygotować dane do trenowania i testowania programu należy na początek przypisać odpowiednio wektory NumPy \"x\" i \"y\" oraz przekształcić dane za pomocą values."
   ]
  },
  {
   "cell_type": "code",
   "execution_count": 19,
   "metadata": {},
   "outputs": [],
   "source": [
    "#Uzyskanie wektora z tekstem każdego e-maila w naszym zbiorze danych.\n",
    "x = df.text.values\n",
    "#Zmienna y opisująca czy dany e-mail jest typu ham czy spam\n",
    "y = df.spam.values"
   ]
  },
  {
   "attachments": {},
   "cell_type": "markdown",
   "metadata": {},
   "source": [
    "Następnie korzystając z biblioteki scikit-learn dzielimy zbiór danych na zbiór treningowy i testowy. 20% zbioru testowego 80% zbiory treningowego"
   ]
  },
  {
   "cell_type": "code",
   "execution_count": 20,
   "metadata": {},
   "outputs": [],
   "source": [
    "#Podział danych na testowe i treningowe\n",
    "xtrain,xtest,ytrain,ytest=train_test_split(x,y,test_size=0.2)"
   ]
  },
  {
   "attachments": {},
   "cell_type": "markdown",
   "metadata": {},
   "source": [
    "W przypadku analizy tekstu trzeba zastosować wektoryzację tekstu, która zamienia ciągi znaków na wektory numeryczne, aby można było je wykorzystać w kolejnych etapach."
   ]
  },
  {
   "cell_type": "code",
   "execution_count": 21,
   "metadata": {},
   "outputs": [],
   "source": [
    "#Zamiana tekstu na wektory liczb\n",
    "vectorizer = CountVectorizer()\n",
    "x_train = vectorizer.fit_transform(xtrain)\n",
    "x_test = vectorizer.transform(xtest)\n",
    "y_train = ytrain\n",
    "y_test = ytest"
   ]
  },
  {
   "attachments": {},
   "cell_type": "markdown",
   "metadata": {},
   "source": [
    "### Algorytm naiwnej klasyfikacji Bayesowskiej"
   ]
  },
  {
   "cell_type": "code",
   "execution_count": 22,
   "metadata": {},
   "outputs": [
    {
     "name": "stdout",
     "output_type": "stream",
     "text": [
      "Dokładność:  0.9947322212467077\n"
     ]
    }
   ],
   "source": [
    "#Tworzenie naiwnego klasyfikatora Bayesowskiego\n",
    "nkb = MultinomialNB()\n",
    "\n",
    "#Trenowanie klasyfikatora na zbiorze treningowym\n",
    "nkb.fit(x_train, y_train)\n",
    "\n",
    "score = nkb.score(x_test, y_test)\n",
    "\n",
    "print(\"Dokładność: \", score)"
   ]
  },
  {
   "attachments": {},
   "cell_type": "markdown",
   "metadata": {},
   "source": [
    "### Algorytm Support Vector Machines (SMV)"
   ]
  },
  {
   "cell_type": "code",
   "execution_count": 23,
   "metadata": {},
   "outputs": [
    {
     "name": "stdout",
     "output_type": "stream",
     "text": [
      "Dokładność:  0.9482001755926251\n"
     ]
    }
   ],
   "source": [
    "#Tworzenie klasyfikatora SVM z jądrem RBF (radialna funkcja bazowa)\n",
    "#Jądro decyduje o tym, jak przestrzeń cech jest mapowana do przestrzeni, w której modele SVM dokonują klasyfikacji.\n",
    "#C=1.0 oznacza standardową wagę kosztu klasyfikacji błędnej\n",
    "svm = SVC(kernel='rbf', C=1.0)\n",
    "\n",
    "#Trenowanie klasyfikator na zbiorze treningowym\n",
    "svm.fit(x_train, y_train)\n",
    "\n",
    "#Dokonanie predykcji na zbiorze testowym\n",
    "y_pred = svm.predict(x_test)\n",
    "\n",
    "#Obliczenie dokładności klasyfikatora\n",
    "accuracy = accuracy_score(y_test, y_pred)\n",
    "print(\"Dokładność: \", accuracy)"
   ]
  }
 ],
 "metadata": {
  "kernelspec": {
   "display_name": "Python 3",
   "language": "python",
   "name": "python3"
  },
  "language_info": {
   "codemirror_mode": {
    "name": "ipython",
    "version": 3
   },
   "file_extension": ".py",
   "mimetype": "text/x-python",
   "name": "python",
   "nbconvert_exporter": "python",
   "pygments_lexer": "ipython3",
   "version": "3.10.11"
  },
  "orig_nbformat": 4
 },
 "nbformat": 4,
 "nbformat_minor": 2
}
