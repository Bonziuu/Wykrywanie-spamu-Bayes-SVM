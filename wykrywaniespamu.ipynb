{
 "cells": [
  {
   "attachments": {},
   "cell_type": "markdown",
   "metadata": {},
   "source": [
    "# Projekt: Wykrywanie spamu wiadomości e-mail przy pomocy naiwnego klasyfikatora Bayesa i SVM"
   ]
  },
  {
   "attachments": {},
   "cell_type": "markdown",
   "metadata": {},
   "source": [
    "Autor: Konrad Woźniak"
   ]
  },
  {
   "attachments": {},
   "cell_type": "markdown",
   "metadata": {},
   "source": [
    "## Opis projektu"
   ]
  },
  {
   "attachments": {},
   "cell_type": "markdown",
   "metadata": {},
   "source": [
    "### Cel projektu"
   ]
  },
  {
   "attachments": {},
   "cell_type": "markdown",
   "metadata": {},
   "source": [
    "Celem projektu jest zastosowanie algorytmów wspomagania decyzji do procesu wspomagania filtracji wiadomości e-mail typu spam. Projekt opiera się na wykorzystaniu klasycznego zastosowania algorytmu Bayesowskiego do filtrowania spamu oraz algorytmu SVM. Jest to projekt wykonany w środowisku programistycznym Python, wykorzystując przy tym Jupyter Nootebook. "
   ]
  },
  {
   "attachments": {},
   "cell_type": "markdown",
   "metadata": {},
   "source": [
    "<img src=\"stopspam.png\" />"
   ]
  },
  {
   "attachments": {},
   "cell_type": "markdown",
   "metadata": {},
   "source": [
    "### Zbiór danych"
   ]
  },
  {
   "attachments": {},
   "cell_type": "markdown",
   "metadata": {},
   "source": [
    "Zbiór danych wykorzystany w projekcie został pobrany z serwisu kaggle.com i jest on plikiem typu csv. Plik posiada ponad 5700 różnych wiadomości.\n",
    "\n",
    "Link do zbioru danych kaggle:\n",
    "\n",
    "https://www.kaggle.com/datasets/studymart/spam-email-detection-dataset"
   ]
  },
  {
   "attachments": {},
   "cell_type": "markdown",
   "metadata": {},
   "source": [
    "### Naiwny Klasyfikator Bayesa"
   ]
  },
  {
   "attachments": {},
   "cell_type": "markdown",
   "metadata": {},
   "source": [
    "Jest to bardzo często stosowany algorytm w uczeniu maszynowym służący do odróżniania wiadomości typu spam od normalnych wiadomości.\n",
    "\n",
    "Jego użycie polega na nauczeniu algorytmu ze zbioru treningowego wiadomości e-mail, które są oznaczone jako spam lub nie. Każda wiadomość jest opisana przez zbiór atrybutów, takich jak liczba wystąpień słów kluczowych, długość wiadomości, ilość załączników, czy adres nadawcy. Następnie, dla nowych wiadomości, naiwny klasyfikator Bayesowski oblicza prawdopodobieństwo, że dana wiadomość jest spamem lub nie-spamem, bazując na wartościach jej atrybutów. Jeśli prawdopodobieństwo, że wiadomość jest spamem, jest wyższe od pewnego ustalonego progu, to wiadomość jest uznawana za spam i trafia do folderu spamowego.\n",
    "\n",
    "Przykładowo, jeśli w treningowym zbiorze wiadomości spamowych występuje wiele razy słowo \"kredyt\", a w niespamowych tylko kilka razy, to naiwny klasyfikator Bayesowski będzie skłaniał się do tego, że wiadomość zawierająca słowo \"kredyt\" jest spamem. W ten sposób, na podstawie analizy atrybutów wiadomości, algorytm jest w stanie dokonywać skutecznej klasyfikacji wiadomości jako spam lub nie-spam.\n",
    "\n",
    "Każde prawdopodobieństwo pojedyńczego słowa, czy jest to wiadomość spamowa lub niespamowa jest określone poprzez:\n",
    "ilość wszystkich użyć tego słowa podzielone przez wszystkie słowa użyte w wiadomościach jednej kategorii spamu lub nie.\n",
    "\n",
    "Naiwnością klasyfikatora jest to, że niezależnie od szyku słów w wiadomości e-mailowej prawdopodobieństwo zawsze będzie takie samo, czyli kolejność w jakiej dane słowa zostały użyte nie ma znaczenia dla algorytmu."
   ]
  },
  {
   "attachments": {},
   "cell_type": "markdown",
   "metadata": {},
   "source": [
    "## Implementacja projektu"
   ]
  },
  {
   "attachments": {},
   "cell_type": "markdown",
   "metadata": {},
   "source": [
    "### Import bibliotek projektowych"
   ]
  },
  {
   "cell_type": "code",
   "execution_count": 4,
   "metadata": {},
   "outputs": [],
   "source": [
    "#Biblioteki\n",
    "import pandas as pd\n",
    "import numpy as np\n",
    "import matplotlib.pyplot as plt\n",
    "import seaborn as sns\n",
    "import string\n",
    "from nltk.corpus import stopwords\n",
    "import nltk\n",
    "import os\n",
    "from wordcloud import WordCloud, STOPWORDS, ImageColorGenerator\n",
    "from PIL import Image\n",
    "from sklearn.feature_extraction.text import CountVectorizer\n",
    "from sklearn.model_selection import train_test_split\n",
    "from sklearn.metrics import classification_report, confusion_matrix\n",
    "from sklearn.naive_bayes import MultinomialNB\n",
    "from sklearn.metrics import roc_curve, auc\n",
    "from sklearn import metrics\n",
    "from sklearn import model_selection\n",
    "from sklearn import svm\n",
    "from nltk import word_tokenize\n",
    "from sklearn.metrics import roc_auc_score\n",
    "from matplotlib import pyplot\n",
    "from sklearn.metrics import plot_confusion_matrix"
   ]
  }
 ],
 "metadata": {
  "kernelspec": {
   "display_name": "Python 3",
   "language": "python",
   "name": "python3"
  },
  "language_info": {
   "codemirror_mode": {
    "name": "ipython",
    "version": 3
   },
   "file_extension": ".py",
   "mimetype": "text/x-python",
   "name": "python",
   "nbconvert_exporter": "python",
   "pygments_lexer": "ipython3",
   "version": "3.10.11"
  },
  "orig_nbformat": 4
 },
 "nbformat": 4,
 "nbformat_minor": 2
}
